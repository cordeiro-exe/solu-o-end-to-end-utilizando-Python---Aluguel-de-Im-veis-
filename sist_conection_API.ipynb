{
 "cells": [
  {
   "cell_type": "code",
   "execution_count": 1,
   "id": "26cad3fc-555c-4663-8646-5e9ec5276ad4",
   "metadata": {},
   "outputs": [],
   "source": [
    "# Nosso sistema de conexao com a API"
   ]
  },
  {
   "cell_type": "code",
   "execution_count": 3,
   "id": "759f3e65-445b-4d1f-92d3-e83df2336a16",
   "metadata": {},
   "outputs": [],
   "source": [
    "# conexao\n",
    "import requests "
   ]
  },
  {
   "cell_type": "code",
   "execution_count": 11,
   "id": "0a5af97b-cefd-48d9-895b-c14013e41044",
   "metadata": {},
   "outputs": [
    {
     "data": {
      "text/plain": [
       "{'valor_aluguel': '[6780.15971337]'}"
      ]
     },
     "execution_count": 11,
     "metadata": {},
     "output_type": "execute_result"
    }
   ],
   "source": [
    "url = 'http://127.0.0.1:5000/api_preditivo/550;  1;  1;  0;  0;  0;  0;  0; 84'\n",
    "# acesar conexao\n",
    "consulta = requests.get(url)\n",
    "\n",
    "# buscar a info\n",
    "reposta = consulta.json()\n",
    "\n",
    "# devoluçao\n",
    "reposta"
   ]
  },
  {
   "cell_type": "code",
   "execution_count": null,
   "id": "16535798-ecda-43f8-8eba-0fee699aa4ae",
   "metadata": {},
   "outputs": [],
   "source": []
  }
 ],
 "metadata": {
  "kernelspec": {
   "display_name": "Python 3 (ipykernel)",
   "language": "python",
   "name": "python3"
  },
  "language_info": {
   "codemirror_mode": {
    "name": "ipython",
    "version": 3
   },
   "file_extension": ".py",
   "mimetype": "text/x-python",
   "name": "python",
   "nbconvert_exporter": "python",
   "pygments_lexer": "ipython3",
   "version": "3.12.4"
  }
 },
 "nbformat": 4,
 "nbformat_minor": 5
}
