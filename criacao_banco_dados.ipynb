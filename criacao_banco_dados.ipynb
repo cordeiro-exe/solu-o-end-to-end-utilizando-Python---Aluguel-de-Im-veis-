{
 "cells": [
  {
   "cell_type": "code",
   "execution_count": 3,
   "id": "ccaf3432-d408-44f3-a852-61cea2e2f9b4",
   "metadata": {},
   "outputs": [],
   "source": [
    "# Lib para banco de dados\n",
    "import sqlite3"
   ]
  },
  {
   "cell_type": "code",
   "execution_count": 5,
   "id": "fdfb1484-9862-4c54-a410-abd846be2f7c",
   "metadata": {},
   "outputs": [],
   "source": [
    "# criar o banco\n",
    "conexao_banco = sqlite3.connect('banco_dados_API.db')"
   ]
  },
  {
   "cell_type": "code",
   "execution_count": 28,
   "id": "92442d97-cc0a-41fa-9030-cc77459a7c25",
   "metadata": {},
   "outputs": [],
   "source": [
    "# apontando pro banco\n",
    "cursor = conexao_banco.cursor()"
   ]
  },
  {
   "cell_type": "code",
   "execution_count": 30,
   "id": "7a69fda2-40f7-4846-be3d-73ab4c4b663a",
   "metadata": {},
   "outputs": [
    {
     "data": {
      "text/plain": [
       "<sqlite3.Cursor at 0x27399ab7840>"
      ]
     },
     "execution_count": 30,
     "metadata": {},
     "output_type": "execute_result"
    }
   ],
   "source": [
    "# query -- > criar uma tabela\n",
    "query_criar_banco = '''\n",
    "\n",
    "CREATE TABLE Log_API (\n",
    "    id INTEGER NOT NULL PRIMARY KEY AUTOINCREMENT,\n",
    "    inputs TEXT,\n",
    "    inicio TEXT,\n",
    "    fim TEXT,\n",
    "    processamento TEXT    \n",
    ")\n",
    "'''\n",
    "\n",
    "cursor.execute(query_criar_banco)"
   ]
  },
  {
   "cell_type": "code",
   "execution_count": 48,
   "id": "1eb1d5be-8d78-430f-b2ac-a2ef3f94aff9",
   "metadata": {},
   "outputs": [
    {
     "data": {
      "text/plain": [
       "[(1,\n",
       "  '25;  1;  1;  0;  0;  0;  0;  0; 84',\n",
       "  '01/01/2000 19:00:01',\n",
       "  '01/01/2000 19:00:02',\n",
       "  '00:01'),\n",
       " (2,\n",
       "  '25;  1;  1;  0;  0;  0;  0;  0; 84',\n",
       "  '01/01/2000 19:00:01',\n",
       "  '01/01/2000 19:00:02',\n",
       "  '00:01'),\n",
       " (3,\n",
       "  '25.01.01.00.00.00.00.00.084.0[1535.81153127]',\n",
       "  '2024-10-13 16:59:00.690426',\n",
       "  '2024-10-13 16:59:00.698451',\n",
       "  '0:00:00.008025'),\n",
       " (4,\n",
       "  '25.01.01.00.00.00.00.00.084.0[1535.81153127]',\n",
       "  '2024-10-13 17:00:57.531521',\n",
       "  '2024-10-13 17:00:57.538556',\n",
       "  '0:00:00.007035'),\n",
       " (5,\n",
       "  '550.01.01.00.00.00.00.00.084.0[6780.15971337]',\n",
       "  '2024-10-13 17:01:23.879567',\n",
       "  '2024-10-13 17:01:23.886558',\n",
       "  '0:00:00.006991')]"
      ]
     },
     "execution_count": 48,
     "metadata": {},
     "output_type": "execute_result"
    }
   ],
   "source": [
    "query_consulta = '''\n",
    "SELECT * FROM Log_API\n",
    "'''\n",
    "\n",
    "#Excutando a query\n",
    "cursor.execute(query_consulta).fetchall()"
   ]
  },
  {
   "cell_type": "code",
   "execution_count": null,
   "id": "44e8f6f4-bd15-448c-8cd3-db82288aec0d",
   "metadata": {},
   "outputs": [],
   "source": []
  }
 ],
 "metadata": {
  "kernelspec": {
   "display_name": "Python 3 (ipykernel)",
   "language": "python",
   "name": "python3"
  },
  "language_info": {
   "codemirror_mode": {
    "name": "ipython",
    "version": 3
   },
   "file_extension": ".py",
   "mimetype": "text/x-python",
   "name": "python",
   "nbconvert_exporter": "python",
   "pygments_lexer": "ipython3",
   "version": "3.12.4"
  }
 },
 "nbformat": 4,
 "nbformat_minor": 5
}
